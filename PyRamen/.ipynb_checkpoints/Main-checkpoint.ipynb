{
 "cells": [
  {
   "cell_type": "code",
   "execution_count": 147,
   "metadata": {},
   "outputs": [
    {
     "name": "stdout",
     "output_type": "stream",
     "text": [
      "{'spicy miso ramen': 9238, 'tori paitan ramen': 9156, 'truffle butter ramen': 8982, 'tonkotsu ramen': 9288, 'vegetarian spicy miso': 9216, 'shio ramen': 9180, 'miso crab ramen': 8890, 'nagomi shoyu': 9132, 'soft-shell miso crab ramen': 9130, 'burnt garlic tonkotsu ramen': 9070, 'vegetarian curry + king trumpet mushroom ramen': 8824}\n"
     ]
    }
   ],
   "source": [
    "\"\"\" \n",
    "Homework: PyRamen\n",
    "\n",
    "This script is used to analyze how well your business did on a per-product basis.\n",
    "\n",
    "\"\"\"\n",
    "\n",
    "# Import libraries\n",
    "\n",
    "import csv\n",
    "from pathlib import Path\n",
    "\n",
    "# Set file paths for menu_data.csv and sales_data.csv\n",
    "\n",
    "menu_filepath = Path(\"./02-Python_Homework_Instructions_PyRamen_Resources_menu_data.csv\")\n",
    "sales_filepath = Path(\"./02-Python_Homework_Instructions_PyRamen_Resources_sales_data.csv\")\n",
    "\n",
    "# Initialize list objects to hold our menu and sales data\n",
    "\n",
    "menu = []\n",
    "sales = []\n",
    "\n",
    "# Read in the menu data into the menu list\n",
    "\n",
    "with open(menu_filepath, 'r') as csvfile:\n",
    "\n",
    "    # Pass in the csv file to the csv.reader() function\n",
    "    # (with ',' as the delmiter/separator) and return the csvreader object\n",
    "    csvreader = csv.reader(csvfile, delimiter=',')\n",
    "\n",
    "    # Read the header row first\n",
    "    csv_header = next(csvreader)\n",
    "\n",
    "    # Read each row of data after the header\n",
    "    for row in csvreader: \n",
    "        menu.append(row)\n",
    "       \n",
    "    \n",
    "# Read in the sales data into the sales list\n",
    "\n",
    "with open(sales_filepath, 'r') as csvfile:\n",
    "\n",
    "    # Pass in the csv file to the csv.reader() function\n",
    "    # (with ',' as the delmiter/separator) and return the csvreader object\n",
    "    csvreader = csv.reader(csvfile, delimiter=',')\n",
    "\n",
    "    # Read the header row first\n",
    "    csv_header = next(csvreader)\n",
    "\n",
    "    # Read each row of data after the header\n",
    "    for row in csvreader: \n",
    "        sales.append(row)\n",
    "\n",
    "report={}\n",
    "for each_item in sales: \n",
    "    name=each_item[4]\n",
    "    quantity=int(each_item[3])\n",
    "    if name in report:\n",
    "        current_quantity=report[name] # test_dict[name] -> 1\n",
    "        report[name]=current_quantity+quantity\n",
    "    else: \n",
    "        report[name]=quantity\n",
    "#         test_dict[name]=quantity\n",
    "\n",
    "print(report)\n",
    "\n"
   ]
  },
  {
   "cell_type": "code",
   "execution_count": null,
   "metadata": {},
   "outputs": [],
   "source": [
    "for each_item in report: \n",
    "    report[name] = {\n",
    "        \"01-count\": 0,\n",
    "        \"02-revenue\": 0,\n",
    "        \"03-cogs\": 0,\n",
    "        \"04-profit\": 0,}\n",
    "                      \n",
    "for each_item in menu: \n",
    "    item=each_item[0]\n",
    "    price=float(each_item[3])\n",
    "    cost=float(each_item[4])\n",
    "    if item == report[name]:\n",
    "        profit = (price - cost) * quantity\n",
    "        report[name][\"01-count\"] += quantity\n",
    "        report[name][\"02-revenue\"] += price * quantity\n",
    "        report[name][\"03-cogs\"] += cost * quantity\n",
    "        report[name][\"04-profit\"] += profit * quantity\n",
    "    else:\n",
    "        print(f\"{name} does not equal {item}! NO MATCH!\")\n",
    "\n",
    "        \n",
    "print(report)        \n"
   ]
  }
 ],
 "metadata": {
  "kernelspec": {
   "display_name": "Python 3",
   "language": "python",
   "name": "python3"
  },
  "language_info": {
   "codemirror_mode": {
    "name": "ipython",
    "version": 3
   },
   "file_extension": ".py",
   "mimetype": "text/x-python",
   "name": "python",
   "nbconvert_exporter": "python",
   "pygments_lexer": "ipython3",
   "version": "3.8.3"
  }
 },
 "nbformat": 4,
 "nbformat_minor": 4
}
